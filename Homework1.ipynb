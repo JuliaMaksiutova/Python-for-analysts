{
  "nbformat": 4,
  "nbformat_minor": 0,
  "metadata": {
    "colab": {
      "provenance": [],
      "authorship_tag": "ABX9TyN0UuhX2roBMiLOfnCyaH0P",
      "include_colab_link": true
    },
    "kernelspec": {
      "name": "python3",
      "display_name": "Python 3"
    },
    "language_info": {
      "name": "python"
    }
  },
  "cells": [
    {
      "cell_type": "markdown",
      "metadata": {
        "id": "view-in-github",
        "colab_type": "text"
      },
      "source": [
        "<a href=\"https://colab.research.google.com/github/JuliaMaksiutova/Python-for-analysts/blob/main/Homework1.ipynb\" target=\"_parent\"><img src=\"https://colab.research.google.com/assets/colab-badge.svg\" alt=\"Open In Colab\"/></a>"
      ]
    },
    {
      "cell_type": "markdown",
      "source": [
        "##Task2\n",
        "\n",
        "На складе лежат разные фрукты в разном количестве. Нужно написать функцию, которая на вход принимает любое количество названий фруктов и их количество, а возвращает общее количество фруктов на складе.\n"
      ],
      "metadata": {
        "id": "F5ykREJUysIw"
      }
    },
    {
      "cell_type": "markdown",
      "source": [
        "Пример работы функции:\n",
        "\n",
        "\n",
        "\n",
        "```\n",
        "total_fruits(banana=5, mango=7, apple=8)\n",
        "20\n",
        "```\n",
        "\n"
      ],
      "metadata": {
        "id": "snajPVZK25UD"
      }
    },
    {
      "cell_type": "code",
      "source": [
        "def stock(kwargs) -> int:\n",
        "    result = int()\n",
        "    for key, value in kwargs.items():\n",
        "        result += value\n",
        "    print(result)"
      ],
      "metadata": {
        "id": "fHYi7075yxxQ"
      },
      "execution_count": 9,
      "outputs": []
    },
    {
      "cell_type": "code",
      "source": [
        "stock_dict = {\n",
        "    'muz': 5,\n",
        "    'portakal': 7,\n",
        "    'elma': 8,\n",
        "    'armul': 2,\n",
        "    'şeftali': 5,\n",
        "    'erik': 9\n",
        "}\n",
        "stock(stock_dict)"
      ],
      "metadata": {
        "colab": {
          "base_uri": "https://localhost:8080/"
        },
        "id": "gdSTWdzVy5hV",
        "outputId": "2493c2ea-c111-45c3-d0ac-caa35af9b188"
      },
      "execution_count": 10,
      "outputs": [
        {
          "output_type": "stream",
          "name": "stdout",
          "text": [
            "36\n"
          ]
        }
      ]
    },
    {
      "cell_type": "markdown",
      "source": [
        "##Task3"
      ],
      "metadata": {
        "id": "1xlD9PfQ_aoK"
      }
    },
    {
      "cell_type": "markdown",
      "source": [
        "Дан список с затратами на рекламу. Но в данных есть ошибки, некоторые затраты имеют отрицательную величину. Удалите такие значения из списка и посчитайте суммарные затраты\n",
        "\n",
        "\n",
        "```\n",
        "[100, 125, -90, 345, 655, -1, 0, 200]\n",
        "```\n",
        "\n",
        "Используйте list comprehensions\n",
        "\n"
      ],
      "metadata": {
        "id": "YloY7C0d_mlJ"
      }
    },
    {
      "cell_type": "code",
      "source": [
        "user_list = [100, 125, -90, 345, 655, -1, 0, 200]"
      ],
      "metadata": {
        "id": "KFb-hZDJ_wSO"
      },
      "execution_count": 7,
      "outputs": []
    },
    {
      "cell_type": "code",
      "source": [
        "result_list = [i for i in user_list if i >= 0]\n",
        "print(result_list)"
      ],
      "metadata": {
        "colab": {
          "base_uri": "https://localhost:8080/"
        },
        "id": "YSZs_oNC_0rm",
        "outputId": "cb85cae9-057c-469b-8944-9af02d4cac97"
      },
      "execution_count": 8,
      "outputs": [
        {
          "output_type": "stream",
          "name": "stdout",
          "text": [
            "[100, 125, 345, 655, 0, 200]\n"
          ]
        }
      ]
    },
    {
      "cell_type": "markdown",
      "source": [
        "##Task4\n",
        "\n",
        "Даны два списка.\n",
        "\n",
        "Дата покупки\n",
        "\n",
        "`['2021-09-14', '2021-12-15', '2021-09-08', '2021-12-05', '2021-10-09', '2021-09-30', '2021-12-22', '2021-11-29', '2021-12-24', '2021-11-26', '2021-10-27', '2021-12-18', '2021-11-09', '2021-11-23', '2021-09-27', '2021-10-02', '2021-12-27', '2021-09-20', '2021-12-13', '2021-11-01', '2021-11-09', '2021-12-06', '2021-12-08', '2021-10-09', '2021-10-31', '2021-09-30', '2021-11-09', '2021-12-13', '2021-10-26', '2021-12-09']`\n",
        "\n",
        "Суммы покупок по датам\n",
        "\n",
        "`[1270, 8413, 9028, 3703, 5739, 4095, 295, 4944, 5723, 3701, 4471, 651, 7037, 4274, 6275, 4988, 6930, 2971, 6592, 2004, 2822, 519, 3406, 2732, 5015, 2008, 316, 6333, 5700, 2887]`\n"
      ],
      "metadata": {
        "id": "KPoAFGZp_7Nx"
      }
    },
    {
      "cell_type": "code",
      "source": [
        "purchase_date = ['2021-09-14', '2021-12-15', '2021-09-08', '2021-12-05', '2021-10-09',\\\n",
        "                 '2021-09-30', '2021-12-22', '2021-11-29', '2021-12-24', '2021-11-26',\\\n",
        "                 '2021-10-27', '2021-12-18', '2021-11-09', '2021-11-23', '2021-09-27',\\\n",
        "                 '2021-10-02', '2021-12-27', '2021-09-20', '2021-12-13', '2021-11-01',\\\n",
        "                 '2021-11-09', '2021-12-06', '2021-12-08', '2021-10-09', '2021-10-31',\\\n",
        "                 '2021-09-30', '2021-11-09', '2021-12-13', '2021-10-26', '2021-12-09']"
      ],
      "metadata": {
        "id": "tu_0tr-xBDVA"
      },
      "execution_count": 11,
      "outputs": []
    },
    {
      "cell_type": "code",
      "source": [
        "purchase_value = [1270, 8413, 9028, 3703, 5739,\\\n",
        "                  4095, 295, 4944, 5723, 3701,\\\n",
        "                  4471, 651, 7037, 4274, 6275,\\\n",
        "                  4988, 6930, 2971, 6592, 2004,\\\n",
        "                  2822, 519, 3406, 2732, 5015,\\\n",
        "                  2008, 316, 6333, 5700, 2887]"
      ],
      "metadata": {
        "id": "RDflOAKIBF8P"
      },
      "execution_count": 12,
      "outputs": []
    },
    {
      "cell_type": "code",
      "source": [
        "months_dict = {\n",
        "    '1':'январе',\n",
        "    '2':'феврале',\n",
        "    '3':'марте',\n",
        "    '4':'апреле',\n",
        "    '5':'мае',\n",
        "    '6':'июне',\n",
        "    '7':'июле',\n",
        "    '8':'августе',\n",
        "    '9':'сентябре',\n",
        "    '10':'октябре',\n",
        "    '11':'ноябре',\n",
        "    '12':'декабре'\n",
        "}"
      ],
      "metadata": {
        "id": "7N54ftqiBJAF"
      },
      "execution_count": 13,
      "outputs": []
    },
    {
      "cell_type": "markdown",
      "source": [
        "###Task 4.1\n",
        "\n",
        "Найдите, какая выручка у компании в ноябре\n",
        "\n",
        "Используйте list comprehensions"
      ],
      "metadata": {
        "id": "C2kbG-28AbzY"
      }
    },
    {
      "cell_type": "code",
      "source": [
        "only_months = [d[5:-3] for d in purchase_date]"
      ],
      "metadata": {
        "id": "K8x_S-YnA8Sc"
      },
      "execution_count": 14,
      "outputs": []
    },
    {
      "cell_type": "code",
      "source": [
        "sales = int()\n",
        "for i in range(len(purchase_value)):\n",
        "    if only_months[i] == '11':\n",
        "        sales += int(purchase_value[i])"
      ],
      "metadata": {
        "id": "PdFnzek_BOHN"
      },
      "execution_count": 15,
      "outputs": []
    },
    {
      "cell_type": "code",
      "source": [
        "needed_month = months_dict['11']\n",
        "print(f'Выручка в {needed_month} = {sales} У.Е.')"
      ],
      "metadata": {
        "colab": {
          "base_uri": "https://localhost:8080/"
        },
        "id": "BIz8G7QRBQaZ",
        "outputId": "ce33f2a6-32fe-4310-ff7f-dfa03efc12b1"
      },
      "execution_count": 16,
      "outputs": [
        {
          "output_type": "stream",
          "name": "stdout",
          "text": [
            "Выручка в ноябре = 25098 У.Е.\n"
          ]
        }
      ]
    },
    {
      "cell_type": "markdown",
      "source": [
        "###Task 4.2\n",
        "\n",
        "Найдите выручку компании в зависимости от месяца\n",
        "\n",
        "Для этого напишите функцию, которая на вход принимает список с датами и список с выручкой, а на выходе словарь, где ключи - это месяцы, а значения - это выручка.\n",
        "\n",
        "Используйте аннотирование типов."
      ],
      "metadata": {
        "id": "5LjhHWNSBT8R"
      }
    },
    {
      "cell_type": "code",
      "source": [
        "def sales_by_months(dates: list, sales: list) -> dict:\n",
        "    \n",
        "    months_nominative_dict = {\n",
        "    '01':'январь',\n",
        "    '02':'февраль',\n",
        "    '03':'март',\n",
        "    '04':'апрель',\n",
        "    '05':'май',\n",
        "    '06':'июнь',\n",
        "    '07':'июль',\n",
        "    '08':'август',\n",
        "    '09':'сентябрь',\n",
        "    '10':'октябрь',\n",
        "    '11':'ноябрь',\n",
        "    '12':'декабрь'\n",
        "    }  \n",
        "    \n",
        "    result = {}\n",
        "    only_months = [d[5:-3] for d in dates].copy()\n",
        "    result = dict.fromkeys(only_months, None)\n",
        "    result = dict(sorted(result.items()))\n",
        "\n",
        "    for key in result:\n",
        "        s = int()\n",
        "        for i in range(len(only_months)):\n",
        "            if key == only_months[i]:\n",
        "                s += int(sales[i])\n",
        "        result[key] = s\n",
        "       \n",
        "    for key in list(result):\n",
        "        if key in months_nominative_dict.keys():\n",
        "            i = months_nominative_dict.get(key)\n",
        "            result[i] = result.pop(key)\n",
        "    \n",
        "    for key,value in result.items(): print(key, ':', value)"
      ],
      "metadata": {
        "id": "2hjqZz43BZfV"
      },
      "execution_count": 17,
      "outputs": []
    },
    {
      "cell_type": "code",
      "source": [
        "sales_by_months(dates = purchase_date, sales = purchase_value)"
      ],
      "metadata": {
        "colab": {
          "base_uri": "https://localhost:8080/"
        },
        "id": "9z1xFJGFBcfb",
        "outputId": "13769c5f-4d00-47ab-d006-addf010d1cc1"
      },
      "execution_count": 18,
      "outputs": [
        {
          "output_type": "stream",
          "name": "stdout",
          "text": [
            "сентябрь : 25647\n",
            "октябрь : 28645\n",
            "ноябрь : 25098\n",
            "декабрь : 45452\n"
          ]
        }
      ]
    }
  ]
}